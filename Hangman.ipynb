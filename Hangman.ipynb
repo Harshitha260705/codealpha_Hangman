{
  "nbformat": 4,
  "nbformat_minor": 0,
  "metadata": {
    "colab": {
      "provenance": [],
      "authorship_tag": "ABX9TyOnhRS0i6RLYHwsPVzfE3O1",
      "include_colab_link": true
    },
    "kernelspec": {
      "name": "python3",
      "display_name": "Python 3"
    },
    "language_info": {
      "name": "python"
    }
  },
  "cells": [
    {
      "cell_type": "markdown",
      "metadata": {
        "id": "view-in-github",
        "colab_type": "text"
      },
      "source": [
        "<a href=\"https://colab.research.google.com/github/Harshitha260705/codealpha_Hangman/blob/main/Hangman.ipynb\" target=\"_parent\"><img src=\"https://colab.research.google.com/assets/colab-badge.svg\" alt=\"Open In Colab\"/></a>"
      ]
    },
    {
      "cell_type": "code",
      "source": [
        "\n",
        "\n",
        "def get_bot_response(user_input):\n",
        "    \"\"\"\n",
        "    Returns a predefined response based on the user's input.\n",
        "    \"\"\"\n",
        "    if user_input == \"hello\":\n",
        "        return \"Hi!\"\n",
        "    elif user_input == \"how are you\":\n",
        "        return \"I'm fine, thanks!\"\n",
        "    elif user_input == \"bye\":\n",
        "        return \"Goodbye!\"\n",
        "    else:\n",
        "        return \"I'm sorry, I didn't understand that.\"\n",
        "\n",
        "\n",
        "def chatbot():\n",
        "    \"\"\"\n",
        "    Starts the chatbot conversation.\n",
        "    \"\"\"\n",
        "    print(\"Bot: Welcome!\")\n",
        "\n",
        "    while True:\n",
        "        user_input = input(\"You: \").lower().strip()\n",
        "        response = get_bot_response(user_input)\n",
        "        print(\"Bot:\", response)\n",
        "\n",
        "        if user_input == \"bye\":\n",
        "            break\n",
        "\n",
        "# Start the chatbot\n",
        "chatbot()\n"
      ],
      "metadata": {
        "id": "VQkGyz1nuHRg",
        "colab": {
          "base_uri": "https://localhost:8080/"
        },
        "outputId": "e5fbc958-e648-4165-87ff-6162dba59752"
      },
      "execution_count": 1,
      "outputs": [
        {
          "output_type": "stream",
          "name": "stdout",
          "text": [
            "Bot: Welcome!\n",
            "You: hello\n",
            "Bot: Hi!\n",
            "You: how are you\n",
            "Bot: I'm fine, thanks!\n",
            "You: bye\n",
            "Bot: Goodbye!\n"
          ]
        }
      ]
    },
    {
      "cell_type": "code",
      "source": [
        "\n"
      ],
      "metadata": {
        "id": "w5MiDMncG2e3"
      },
      "execution_count": 3,
      "outputs": []
    }
  ]
}